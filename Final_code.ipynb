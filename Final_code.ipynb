{
 "cells": [
  {
   "cell_type": "code",
   "execution_count": 198,
   "id": "bd31227c-63f8-4d9b-9621-b7fa37eac01a",
   "metadata": {
    "tags": []
   },
   "outputs": [
    {
     "name": "stderr",
     "output_type": "stream",
     "text": [
      "Loading required package: carData\n",
      "\n",
      "\n",
      "Attaching package: ‘car’\n",
      "\n",
      "\n",
      "The following object is masked from ‘package:dplyr’:\n",
      "\n",
      "    recode\n",
      "\n",
      "\n",
      "The following object is masked from ‘package:purrr’:\n",
      "\n",
      "    some\n",
      "\n",
      "\n"
     ]
    }
   ],
   "source": [
    "options(digits = 16)\n",
    "library(leaps)\n",
    "library(ggplot2)\n",
    "library(GGally)\n",
    "library(glmnet)\n",
    "library(tidyverse)\n",
    "library(Metrics)\n",
    "library(glmnet)\n",
    "library(utils)\n",
    "library(dplyr)\n",
    "library(ggcorrplot)\n",
    "library(plotly)\n",
    "library(car)"
   ]
  },
  {
   "cell_type": "code",
   "execution_count": 199,
   "id": "bb1be02a-a050-4497-8215-000e7f0ad6ff",
   "metadata": {
    "tags": []
   },
   "outputs": [],
   "source": [
    "url<-\"https://raw.githubusercontent.com/YitongZhang01/Predictive-Model/main/insurance.csv\""
   ]
  },
  {
   "cell_type": "code",
   "execution_count": 200,
   "id": "2d85f68a-d4fa-48a9-b873-f3a27b49ad23",
   "metadata": {
    "tags": []
   },
   "outputs": [
    {
     "name": "stderr",
     "output_type": "stream",
     "text": [
      "\u001b[1mRows: \u001b[22m\u001b[34m1338\u001b[39m \u001b[1mColumns: \u001b[22m\u001b[34m8\u001b[39m\n",
      "\u001b[36m──\u001b[39m \u001b[1mColumn specification\u001b[22m \u001b[36m────────────────────────────────────────────────────────\u001b[39m\n",
      "\u001b[1mDelimiter:\u001b[22m \",\"\n",
      "\u001b[31mchr\u001b[39m (3): sex, smoker, region\n",
      "\u001b[32mdbl\u001b[39m (5): index, age, bmi, children, charges\n",
      "\n",
      "\u001b[36mℹ\u001b[39m Use `spec()` to retrieve the full column specification for this data.\n",
      "\u001b[36mℹ\u001b[39m Specify the column types or set `show_col_types = FALSE` to quiet this message.\n"
     ]
    }
   ],
   "source": [
    "insurance <- read_csv(url)"
   ]
  },
  {
   "cell_type": "code",
   "execution_count": 201,
   "id": "b3013695-8ac5-4489-9bd5-0d8d7ef0af25",
   "metadata": {
    "tags": []
   },
   "outputs": [
    {
     "data": {
      "text/html": [
       "<table class=\"dataframe\">\n",
       "<caption>A tibble: 6 × 8</caption>\n",
       "<thead>\n",
       "\t<tr><th scope=col>index</th><th scope=col>age</th><th scope=col>sex</th><th scope=col>bmi</th><th scope=col>children</th><th scope=col>smoker</th><th scope=col>region</th><th scope=col>charges</th></tr>\n",
       "\t<tr><th scope=col>&lt;dbl&gt;</th><th scope=col>&lt;dbl&gt;</th><th scope=col>&lt;chr&gt;</th><th scope=col>&lt;dbl&gt;</th><th scope=col>&lt;dbl&gt;</th><th scope=col>&lt;chr&gt;</th><th scope=col>&lt;chr&gt;</th><th scope=col>&lt;dbl&gt;</th></tr>\n",
       "</thead>\n",
       "<tbody>\n",
       "\t<tr><td>0</td><td>19</td><td>female</td><td>27.900</td><td>0</td><td>yes</td><td>southwest</td><td>16884.92400</td></tr>\n",
       "\t<tr><td>1</td><td>18</td><td>male  </td><td>33.770</td><td>1</td><td>no </td><td>southeast</td><td> 1725.55230</td></tr>\n",
       "\t<tr><td>2</td><td>28</td><td>male  </td><td>33.000</td><td>3</td><td>no </td><td>southeast</td><td> 4449.46200</td></tr>\n",
       "\t<tr><td>3</td><td>33</td><td>male  </td><td>22.705</td><td>0</td><td>no </td><td>northwest</td><td>21984.47061</td></tr>\n",
       "\t<tr><td>4</td><td>32</td><td>male  </td><td>28.880</td><td>0</td><td>no </td><td>northwest</td><td> 3866.85520</td></tr>\n",
       "\t<tr><td>5</td><td>31</td><td>female</td><td>25.740</td><td>0</td><td>no </td><td>southeast</td><td> 3756.62160</td></tr>\n",
       "</tbody>\n",
       "</table>\n"
      ],
      "text/latex": [
       "A tibble: 6 × 8\n",
       "\\begin{tabular}{llllllll}\n",
       " index & age & sex & bmi & children & smoker & region & charges\\\\\n",
       " <dbl> & <dbl> & <chr> & <dbl> & <dbl> & <chr> & <chr> & <dbl>\\\\\n",
       "\\hline\n",
       "\t 0 & 19 & female & 27.900 & 0 & yes & southwest & 16884.92400\\\\\n",
       "\t 1 & 18 & male   & 33.770 & 1 & no  & southeast &  1725.55230\\\\\n",
       "\t 2 & 28 & male   & 33.000 & 3 & no  & southeast &  4449.46200\\\\\n",
       "\t 3 & 33 & male   & 22.705 & 0 & no  & northwest & 21984.47061\\\\\n",
       "\t 4 & 32 & male   & 28.880 & 0 & no  & northwest &  3866.85520\\\\\n",
       "\t 5 & 31 & female & 25.740 & 0 & no  & southeast &  3756.62160\\\\\n",
       "\\end{tabular}\n"
      ],
      "text/markdown": [
       "\n",
       "A tibble: 6 × 8\n",
       "\n",
       "| index &lt;dbl&gt; | age &lt;dbl&gt; | sex &lt;chr&gt; | bmi &lt;dbl&gt; | children &lt;dbl&gt; | smoker &lt;chr&gt; | region &lt;chr&gt; | charges &lt;dbl&gt; |\n",
       "|---|---|---|---|---|---|---|---|\n",
       "| 0 | 19 | female | 27.900 | 0 | yes | southwest | 16884.92400 |\n",
       "| 1 | 18 | male   | 33.770 | 1 | no  | southeast |  1725.55230 |\n",
       "| 2 | 28 | male   | 33.000 | 3 | no  | southeast |  4449.46200 |\n",
       "| 3 | 33 | male   | 22.705 | 0 | no  | northwest | 21984.47061 |\n",
       "| 4 | 32 | male   | 28.880 | 0 | no  | northwest |  3866.85520 |\n",
       "| 5 | 31 | female | 25.740 | 0 | no  | southeast |  3756.62160 |\n",
       "\n"
      ],
      "text/plain": [
       "  index age sex    bmi    children smoker region    charges    \n",
       "1 0     19  female 27.900 0        yes    southwest 16884.92400\n",
       "2 1     18  male   33.770 1        no     southeast  1725.55230\n",
       "3 2     28  male   33.000 3        no     southeast  4449.46200\n",
       "4 3     33  male   22.705 0        no     northwest 21984.47061\n",
       "5 4     32  male   28.880 0        no     northwest  3866.85520\n",
       "6 5     31  female 25.740 0        no     southeast  3756.62160"
      ]
     },
     "metadata": {},
     "output_type": "display_data"
    },
    {
     "data": {
      "text/html": [
       "1338"
      ],
      "text/latex": [
       "1338"
      ],
      "text/markdown": [
       "1338"
      ],
      "text/plain": [
       "[1] 1338"
      ]
     },
     "metadata": {},
     "output_type": "display_data"
    }
   ],
   "source": [
    "sex <- as.factor(insurance$sex)\n",
    "bmi <- insurance$bmi\n",
    "children <- insurance$children\n",
    "smoker <- as.factor(insurance$smoker)\n",
    "region <- as.factor(insurance$region)\n",
    "charges <- insurance$charges\n",
    "head(insurance)\n",
    "nrow(insurance)"
   ]
  },
  {
   "cell_type": "markdown",
   "id": "9543e3d2-9721-4cec-835f-a240a4d6e1ee",
   "metadata": {},
   "source": [
    "# Exploratory Data Analysis (EDA)"
   ]
  },
  {
   "cell_type": "code",
   "execution_count": 202,
   "id": "6171ec49-d6c1-49da-9444-8dcc289ccfe5",
   "metadata": {
    "tags": []
   },
   "outputs": [
    {
     "data": {
      "text/html": [
       "0"
      ],
      "text/latex": [
       "0"
      ],
      "text/markdown": [
       "0"
      ],
      "text/plain": [
       "[1] 0"
      ]
     },
     "metadata": {},
     "output_type": "display_data"
    }
   ],
   "source": [
    "# Check for missing values in the entire data frame\n",
    "sum(is.na(insurance))"
   ]
  },
  {
   "cell_type": "markdown",
   "id": "3ca55ca4-641e-444a-bf1c-6c6d5befb84e",
   "metadata": {},
   "source": [
    "**No missing value**"
   ]
  },
  {
   "cell_type": "code",
   "execution_count": 203,
   "id": "61fd80c5-673c-4505-8911-6f479c6464c0",
   "metadata": {
    "tags": []
   },
   "outputs": [
    {
     "data": {
      "image/png": "[encoded data removed]",
      "text/plain": [
       "plot without title"
      ]
     },
     "metadata": {
      "image/png": {
       "height": 300,
       "width": 420
      }
     },
     "output_type": "display_data"
    }
   ],
   "source": [
    "options(repr.plot.width = 7, repr.plot.height = 5)\n",
    "\n",
    "insurance_charge_dist <- insurance %>% ggplot() +\n",
    "    geom_histogram(aes(x = charges), bins = 35, color = '#FF00FF') +\n",
    "    ggtitle('Figure 1: Distribution of Insurance Charges') +\n",
    "    labs(x = 'Insurance Charges', y = 'Count')\n",
    "\n",
    "insurance_charge_dist"
   ]
  },
  {
   "cell_type": "markdown",
   "id": "9c36756a-23e9-4247-ad3b-99ec1e7af1d9",
   "metadata": {},
   "source": [
    "**The distribution appears not normal, we need to use log() function to before fitting our model**\n"
   ]
  },
  {
   "cell_type": "code",
   "execution_count": 204,
   "id": "82f9b87b-fb13-48b4-86ec-bfbd1df68260",
   "metadata": {
    "tags": []
   },
   "outputs": [
    {
     "data": {
      "image/png": "[encoded data removed]",
      "text/plain": [
       "plot without title"
      ]
     },
     "metadata": {
      "image/png": {
       "height": 300,
       "width": 420
      }
     },
     "output_type": "display_data"
    }
   ],
   "source": [
    "options(repr.plot.width = 7, repr.plot.height = 5)\n",
    "\n",
    "insurance_charge_dist <- insurance %>% ggplot() +\n",
    "    geom_histogram(aes(x = log(charges)), bins = 35, color = '#FF00FF') +\n",
    "    ggtitle('Figure 1: Distribution of Insurance Charges') +\n",
    "    labs(x = 'Insurance Charges', y = 'Count')\n",
    "\n",
    "insurance_charge_dist"
   ]
  },
  {
   "cell_type": "code",
   "execution_count": 205,
   "id": "f4b97b4f-97d9-4823-9f25-a75fdda4252a",
   "metadata": {
    "tags": []
   },
   "outputs": [
    {
     "ename": "ERROR",
     "evalue": "\u001b[1m\u001b[33mError\u001b[39m in `summarize()`:\u001b[22m\n\u001b[1m\u001b[22m\u001b[36mℹ\u001b[39m In argument: `log_charges = mean(log_charges)`.\n\u001b[1mCaused by error in `h()`:\u001b[22m\n\u001b[33m!\u001b[39m error in evaluating the argument 'x' in selecting a method for function 'mean': object 'log_charges' not found\n",
     "output_type": "error",
     "traceback": [
      "\u001b[1m\u001b[33mError\u001b[39m in `summarize()`:\u001b[22m\n\u001b[1m\u001b[22m\u001b[36mℹ\u001b[39m In argument: `log_charges = mean(log_charges)`.\n\u001b[1mCaused by error in `h()`:\u001b[22m\n\u001b[33m!\u001b[39m error in evaluating the argument 'x' in selecting a method for function 'mean': object 'log_charges' not found\nTraceback:\n",
      "1. insurance %>% summarize(age = mean(age), bmi = mean(bmi), children = mean(children), \n .     log_charges = mean(log_charges))",
      "2. summarize(., age = mean(age), bmi = mean(bmi), children = mean(children), \n .     log_charges = mean(log_charges))",
      "3. summarise.data.frame(., age = mean(age), bmi = mean(bmi), children = mean(children), \n .     log_charges = mean(log_charges))",
      "4. summarise_cols(.data, dplyr_quosures(...), by, \"summarise\")",
      "5. withCallingHandlers({\n .     for (i in seq_along(dots)) {\n .         poke_error_context(dots, i, mask = mask)\n .         context_poke(\"column\", old_current_column)\n .         dot <- dots[[i]]\n .         dot <- expand_pick(dot, mask)\n .         quosures <- expand_across(dot)\n .         quosures_results <- map(quosures, summarise_eval_one, \n .             mask = mask)\n .         for (k in seq_along(quosures)) {\n .             quo <- quosures[[k]]\n .             quo_data <- attr(quo, \"dplyr:::data\")\n .             quo_result <- quosures_results[[k]]\n .             if (is.null(quo_result)) {\n .                 next\n .             }\n .             types_k <- quo_result$types\n .             chunks_k <- quo_result$chunks\n .             results_k <- quo_result$results\n .             if (!quo_data$is_named && is.data.frame(types_k)) {\n .                 chunks_extracted <- .Call(dplyr_extract_chunks, \n .                   chunks_k, types_k)\n .                 types_k_names <- names(types_k)\n .                 for (j in seq_along(chunks_extracted)) {\n .                   mask$add_one(name = types_k_names[j], chunks = chunks_extracted[[j]], \n .                     result = results_k[[j]])\n .                 }\n .                 chunks <- append(chunks, chunks_extracted)\n .                 types <- append(types, as.list(types_k))\n .                 results <- append(results, results_k)\n .                 out_names <- c(out_names, types_k_names)\n .             }\n .             else {\n .                 name <- quo_data$name_auto\n .                 mask$add_one(name = name, chunks = chunks_k, \n .                   result = results_k)\n .                 chunks <- append(chunks, list(chunks_k))\n .                 types <- append(types, list(types_k))\n .                 results <- append(results, list(results_k))\n .                 out_names <- c(out_names, name)\n .             }\n .         }\n .     }\n .     sizes <- .Call(dplyr_summarise_recycle_chunks_in_place, chunks, \n .         results)\n .     for (i in seq_along(chunks)) {\n .         result <- results[[i]] %||% vec_c(!!!chunks[[i]], .ptype = types[[i]])\n .         cols[[out_names[i]]] <- result\n .     }\n . }, error = function(cnd) {\n .     if (inherits(cnd, \"dplyr:::summarise_incompatible_size\")) {\n .         action <- \"recycle\"\n .         i <- cnd$dplyr_error_data$index\n .     }\n .     else {\n .         action <- \"compute\"\n .         i <- i\n .     }\n .     handler <- dplyr_error_handler(dots = dots, mask = mask, \n .         bullets = summarise_bullets, error_call = error_call, \n .         action = action)\n .     handler(cnd)\n . }, warning = dplyr_warning_handler(state = warnings_state, mask = mask, \n .     error_call = error_call))",
      "6. map(quosures, summarise_eval_one, mask = mask)",
      "7. lapply(.x, .f, ...)",
      "8. FUN(X[[i]], ...)",
      "9. mask$eval_all_summarise(quo)",
      "10. eval()",
      "11. mean(log_charges)",
      "12. .handleSimpleError(function (cond) \n  . .Internal(C_tryCatchHelper(addr, 1L, cond)), \"object 'log_charges' not found\", \n  .     base::quote(mean(log_charges)))",
      "13. h(simpleError(msg, call))",
      "14. .handleSimpleError(function (cnd) \n  . {\n  .     if (inherits(cnd, \"dplyr:::summarise_incompatible_size\")) {\n  .         action <- \"recycle\"\n  .         i <- cnd$dplyr_error_data$index\n  .     }\n  .     else {\n  .         action <- \"compute\"\n  .         i <- i\n  .     }\n  .     handler <- dplyr_error_handler(dots = dots, mask = mask, \n  .         bullets = summarise_bullets, error_call = error_call, \n  .         action = action)\n  .     handler(cnd)\n  . }, \"error in evaluating the argument 'x' in selecting a method for function 'mean': object 'log_charges' not found\", \n  .     base::quote(h(simpleError(msg, call))))",
      "15. h(simpleError(msg, call))",
      "16. handler(cnd)",
      "17. abort(message, class = error_class, parent = parent, call = error_call)",
      "18. signal_abort(cnd, .file)"
     ]
    }
   ],
   "source": [
    "# Estimates of data\n",
    "insurance_summarized <- insurance %>% summarize(age = mean(age), \n",
    "                                                   bmi = mean(bmi),\n",
    "                                                    children = mean(children), \n",
    "                                                    log_charges = mean(log_charges))\n",
    "insurance_summarized"
   ]
  },
  {
   "cell_type": "markdown",
   "id": "f8e3187e-f4c5-4189-9fa2-763e5e952861",
   "metadata": {
    "tags": []
   },
   "source": [
    "*Next, let us plot the relationship of Insurance charge with the other variables using ggpairs.*"
   ]
  },
  {
   "cell_type": "code",
   "execution_count": null,
   "id": "ca7e2f80-364b-45f4-9722-fdbb76ade0db",
   "metadata": {
    "tags": []
   },
   "outputs": [],
   "source": [
    "ggpairs(insurance,columns = c(\"charges\", \"bmi\", \"age\", \"children\"),\n",
    "        mapping = aes(color = smoker, shape = sex, alpha = 0.5))"
   ]
  },
  {
   "cell_type": "code",
   "execution_count": 206,
   "id": "399e7fa2-f3ef-40da-beeb-ea883f81fb5d",
   "metadata": {
    "tags": []
   },
   "outputs": [
    {
     "data": {
      "image/png": "[encoded data removed]",
      "text/plain": [
       "plot without title"
      ]
     },
     "metadata": {
      "image/png": {
       "height": 300,
       "width": 420
      }
     },
     "output_type": "display_data"
    }
   ],
   "source": [
    "# plot a heat map of the correlation matrix\n",
    "corr <- cor(insurance[,c(\"age\", \"bmi\", \"children\", \"charges\")],)\n",
    "ggcorrplot(corr, type = \"full\") + labs(color = \"Correlation\", y = \"Charges\")"
   ]
  },
  {
   "cell_type": "code",
   "execution_count": 207,
   "id": "51e221dd-c23d-4732-b59b-d79c4f45e66d",
   "metadata": {
    "tags": []
   },
   "outputs": [
    {
     "data": {
      "image/png": "[encoded data removed]",
      "text/plain": [
       "plot without title"
      ]
     },
     "metadata": {
      "image/png": {
       "height": 300,
       "width": 420
      }
     },
     "output_type": "display_data"
    }
   ],
   "source": [
    "# plot the distribution of charges across different regions\n",
    "ggplot(insurance, aes(x = region, y = charges)) + geom_boxplot() + labs(x = \"Region\", y = \"Charges\")"
   ]
  },
  {
   "cell_type": "code",
   "execution_count": 208,
   "id": "a16e8a85-ccaf-44bb-adb2-21c09a8118b8",
   "metadata": {
    "tags": []
   },
   "outputs": [
    {
     "ename": "ERROR",
     "evalue": "Error in plot_ly(insurance, x = age, y = bmi, z = charges, type = \"scatter3d\", : object 'age' not found\n",
     "output_type": "error",
     "traceback": [
      "Error in plot_ly(insurance, x = age, y = bmi, z = charges, type = \"scatter3d\", : object 'age' not found\nTraceback:\n",
      "1. plot_ly(insurance, x = age, y = bmi, z = charges, type = \"scatter3d\", \n .     mode = \"markers\", marker = list(size = 2)) %>% layout(scene = list(xaxis = list(title = \"Age\"), \n .     yaxis = list(title = \"BMI\"), zaxis = list(title = \"Charges\")))",
      "2. layout(., scene = list(xaxis = list(title = \"Age\"), yaxis = list(title = \"BMI\"), \n .     zaxis = list(title = \"Charges\")))",
      "3. plot_ly(insurance, x = age, y = bmi, z = charges, type = \"scatter3d\", \n .     mode = \"markers\", marker = list(size = 2))"
     ]
    }
   ],
   "source": [
    "# create an interactive scatter plot of age, BMI, and charges\n",
    "plot_ly(insurance, x = age, y = bmi, z = charges, type = \"scatter3d\", mode = \"markers\", marker = list(size = 2)) %>%\n",
    "  layout(scene = list(xaxis = list(title = \"Age\"),\n",
    "                      yaxis = list(title = \"BMI\"),\n",
    "                      zaxis = list(title = \"Charges\")))"
   ]
  },
  {
   "cell_type": "code",
   "execution_count": null,
   "id": "c779abdd-8f24-4078-aab9-c6877df88ae5",
   "metadata": {
    "tags": []
   },
   "outputs": [],
   "source": [
    "# plot a pie chart for sex\n",
    "sex_counts <- table(insurance$sex)\n",
    "sex_percent <- round(prop.table(sex_counts) * 100, 1)\n",
    "pie(sex_counts,\n",
    "    main = \"Sex Distribution\",\n",
    "    col = c(\"lightpink\", \"lightblue\"),\n",
    "    labels = paste0(names(sex_counts), \": \", sex_percent, \"%\"),\n",
    "    cex = 1.2)\n",
    "# plot a pie chart for smoker\n",
    "smoker_counts <- table(insurance$smoker)\n",
    "smoker_percent <- round(prop.table(smoker_counts) * 100, 1)\n",
    "pie(smoker_counts,\n",
    "    main = \"Smoker Status\",\n",
    "    col = c(\"white\", \"grey\"),\n",
    "    labels = paste0(names(smoker_counts), \": \", smoker_percent, \"%\"),\n",
    "    cex = 1.2)"
   ]
  },
  {
   "cell_type": "markdown",
   "id": "e2bf162c-03b8-4ed0-b395-72660d9ce75d",
   "metadata": {
    "tags": []
   },
   "source": [
    "# Model Selection"
   ]
  },
  {
   "cell_type": "code",
   "execution_count": 275,
   "id": "55d1bfca-9727-4b4b-8146-3a7e3bb9fa84",
   "metadata": {
    "tags": []
   },
   "outputs": [],
   "source": [
    "insurance <- insurance %>%\n",
    "  mutate(log_charges = log(charges))"
   ]
  },
  {
   "cell_type": "code",
   "execution_count": 276,
   "id": "6d16b584-1eea-469b-bd25-dd76d672bdeb",
   "metadata": {
    "tags": []
   },
   "outputs": [
    {
     "data": {
      "text/html": [
       "<table class=\"dataframe\">\n",
       "<caption>A tibble: 6 × 8</caption>\n",
       "<thead>\n",
       "\t<tr><th scope=col>age</th><th scope=col>sex</th><th scope=col>bmi</th><th scope=col>children</th><th scope=col>smoker</th><th scope=col>region</th><th scope=col>charges</th><th scope=col>log_charges</th></tr>\n",
       "\t<tr><th scope=col>&lt;dbl&gt;</th><th scope=col>&lt;chr&gt;</th><th scope=col>&lt;dbl&gt;</th><th scope=col>&lt;dbl&gt;</th><th scope=col>&lt;chr&gt;</th><th scope=col>&lt;chr&gt;</th><th scope=col>&lt;dbl&gt;</th><th scope=col>&lt;dbl&gt;</th></tr>\n",
       "</thead>\n",
       "<tbody>\n",
       "\t<tr><td>19</td><td>female</td><td>35.150</td><td>0</td><td>no</td><td>northwest</td><td> 2134.901500000000</td><td>7.666175788767053</td></tr>\n",
       "\t<tr><td>62</td><td>female</td><td>38.095</td><td>2</td><td>no</td><td>northeast</td><td>15230.324049999999</td><td>9.631043722747554</td></tr>\n",
       "\t<tr><td>46</td><td>female</td><td>28.900</td><td>2</td><td>no</td><td>southwest</td><td> 8823.279000000000</td><td>9.085148848619458</td></tr>\n",
       "\t<tr><td>18</td><td>female</td><td>33.880</td><td>0</td><td>no</td><td>southeast</td><td>11482.634850000000</td><td>9.348591160089185</td></tr>\n",
       "\t<tr><td>18</td><td>male  </td><td>34.430</td><td>0</td><td>no</td><td>southeast</td><td> 1137.469700000000</td><td>7.036561513107688</td></tr>\n",
       "\t<tr><td>39</td><td>female</td><td>24.225</td><td>5</td><td>no</td><td>northwest</td><td> 8965.795749999999</td><td>9.101172143951779</td></tr>\n",
       "</tbody>\n",
       "</table>\n"
      ],
      "text/latex": [
       "A tibble: 6 × 8\n",
       "\\begin{tabular}{llllllll}\n",
       " age & sex & bmi & children & smoker & region & charges & log\\_charges\\\\\n",
       " <dbl> & <chr> & <dbl> & <dbl> & <chr> & <chr> & <dbl> & <dbl>\\\\\n",
       "\\hline\n",
       "\t 19 & female & 35.150 & 0 & no & northwest &  2134.901500000000 & 7.666175788767053\\\\\n",
       "\t 62 & female & 38.095 & 2 & no & northeast & 15230.324049999999 & 9.631043722747554\\\\\n",
       "\t 46 & female & 28.900 & 2 & no & southwest &  8823.279000000000 & 9.085148848619458\\\\\n",
       "\t 18 & female & 33.880 & 0 & no & southeast & 11482.634850000000 & 9.348591160089185\\\\\n",
       "\t 18 & male   & 34.430 & 0 & no & southeast &  1137.469700000000 & 7.036561513107688\\\\\n",
       "\t 39 & female & 24.225 & 5 & no & northwest &  8965.795749999999 & 9.101172143951779\\\\\n",
       "\\end{tabular}\n"
      ],
      "text/markdown": [
       "\n",
       "A tibble: 6 × 8\n",
       "\n",
       "| age &lt;dbl&gt; | sex &lt;chr&gt; | bmi &lt;dbl&gt; | children &lt;dbl&gt; | smoker &lt;chr&gt; | region &lt;chr&gt; | charges &lt;dbl&gt; | log_charges &lt;dbl&gt; |\n",
       "|---|---|---|---|---|---|---|---|\n",
       "| 19 | female | 35.150 | 0 | no | northwest |  2134.901500000000 | 7.666175788767053 |\n",
       "| 62 | female | 38.095 | 2 | no | northeast | 15230.324049999999 | 9.631043722747554 |\n",
       "| 46 | female | 28.900 | 2 | no | southwest |  8823.279000000000 | 9.085148848619458 |\n",
       "| 18 | female | 33.880 | 0 | no | southeast | 11482.634850000000 | 9.348591160089185 |\n",
       "| 18 | male   | 34.430 | 0 | no | southeast |  1137.469700000000 | 7.036561513107688 |\n",
       "| 39 | female | 24.225 | 5 | no | northwest |  8965.795749999999 | 9.101172143951779 |\n",
       "\n"
      ],
      "text/plain": [
       "  age sex    bmi    children smoker region    charges           \n",
       "1 19  female 35.150 0        no     northwest  2134.901500000000\n",
       "2 62  female 38.095 2        no     northeast 15230.324049999999\n",
       "3 46  female 28.900 2        no     southwest  8823.279000000000\n",
       "4 18  female 33.880 0        no     southeast 11482.634850000000\n",
       "5 18  male   34.430 0        no     southeast  1137.469700000000\n",
       "6 39  female 24.225 5        no     northwest  8965.795749999999\n",
       "  log_charges      \n",
       "1 7.666175788767053\n",
       "2 9.631043722747554\n",
       "3 9.085148848619458\n",
       "4 9.348591160089185\n",
       "5 7.036561513107688\n",
       "6 9.101172143951779"
      ]
     },
     "metadata": {},
     "output_type": "display_data"
    },
    {
     "data": {
      "text/html": [
       "1070"
      ],
      "text/latex": [
       "1070"
      ],
      "text/markdown": [
       "1070"
      ],
      "text/plain": [
       "[1] 1070"
      ]
     },
     "metadata": {},
     "output_type": "display_data"
    },
    {
     "data": {
      "text/html": [
       "<table class=\"dataframe\">\n",
       "<caption>A tibble: 6 × 8</caption>\n",
       "<thead>\n",
       "\t<tr><th scope=col>age</th><th scope=col>sex</th><th scope=col>bmi</th><th scope=col>children</th><th scope=col>smoker</th><th scope=col>region</th><th scope=col>charges</th><th scope=col>log_charges</th></tr>\n",
       "\t<tr><th scope=col>&lt;dbl&gt;</th><th scope=col>&lt;chr&gt;</th><th scope=col>&lt;dbl&gt;</th><th scope=col>&lt;dbl&gt;</th><th scope=col>&lt;chr&gt;</th><th scope=col>&lt;chr&gt;</th><th scope=col>&lt;dbl&gt;</th><th scope=col>&lt;dbl&gt;</th></tr>\n",
       "</thead>\n",
       "<tbody>\n",
       "\t<tr><td>56</td><td>female</td><td>39.820</td><td>0</td><td>no </td><td>southeast</td><td>11090.71780</td><td> 9.313863803227299</td></tr>\n",
       "\t<tr><td>27</td><td>male  </td><td>42.130</td><td>0</td><td>yes</td><td>southeast</td><td>39611.75770</td><td>10.586881264789202</td></tr>\n",
       "\t<tr><td>60</td><td>female</td><td>36.005</td><td>0</td><td>no </td><td>northeast</td><td>13228.84695</td><td> 9.490155099115842</td></tr>\n",
       "\t<tr><td>30</td><td>female</td><td>32.400</td><td>1</td><td>no </td><td>southwest</td><td> 4149.73600</td><td> 8.330799996743426</td></tr>\n",
       "\t<tr><td>63</td><td>female</td><td>23.085</td><td>0</td><td>no </td><td>northeast</td><td>14451.83515</td><td> 9.578576685476762</td></tr>\n",
       "\t<tr><td>19</td><td>female</td><td>28.600</td><td>5</td><td>no </td><td>southwest</td><td> 4687.79700</td><td> 8.452718028271507</td></tr>\n",
       "</tbody>\n",
       "</table>\n"
      ],
      "text/latex": [
       "A tibble: 6 × 8\n",
       "\\begin{tabular}{llllllll}\n",
       " age & sex & bmi & children & smoker & region & charges & log\\_charges\\\\\n",
       " <dbl> & <chr> & <dbl> & <dbl> & <chr> & <chr> & <dbl> & <dbl>\\\\\n",
       "\\hline\n",
       "\t 56 & female & 39.820 & 0 & no  & southeast & 11090.71780 &  9.313863803227299\\\\\n",
       "\t 27 & male   & 42.130 & 0 & yes & southeast & 39611.75770 & 10.586881264789202\\\\\n",
       "\t 60 & female & 36.005 & 0 & no  & northeast & 13228.84695 &  9.490155099115842\\\\\n",
       "\t 30 & female & 32.400 & 1 & no  & southwest &  4149.73600 &  8.330799996743426\\\\\n",
       "\t 63 & female & 23.085 & 0 & no  & northeast & 14451.83515 &  9.578576685476762\\\\\n",
       "\t 19 & female & 28.600 & 5 & no  & southwest &  4687.79700 &  8.452718028271507\\\\\n",
       "\\end{tabular}\n"
      ],
      "text/markdown": [
       "\n",
       "A tibble: 6 × 8\n",
       "\n",
       "| age &lt;dbl&gt; | sex &lt;chr&gt; | bmi &lt;dbl&gt; | children &lt;dbl&gt; | smoker &lt;chr&gt; | region &lt;chr&gt; | charges &lt;dbl&gt; | log_charges &lt;dbl&gt; |\n",
       "|---|---|---|---|---|---|---|---|\n",
       "| 56 | female | 39.820 | 0 | no  | southeast | 11090.71780 |  9.313863803227299 |\n",
       "| 27 | male   | 42.130 | 0 | yes | southeast | 39611.75770 | 10.586881264789202 |\n",
       "| 60 | female | 36.005 | 0 | no  | northeast | 13228.84695 |  9.490155099115842 |\n",
       "| 30 | female | 32.400 | 1 | no  | southwest |  4149.73600 |  8.330799996743426 |\n",
       "| 63 | female | 23.085 | 0 | no  | northeast | 14451.83515 |  9.578576685476762 |\n",
       "| 19 | female | 28.600 | 5 | no  | southwest |  4687.79700 |  8.452718028271507 |\n",
       "\n"
      ],
      "text/plain": [
       "  age sex    bmi    children smoker region    charges     log_charges       \n",
       "1 56  female 39.820 0        no     southeast 11090.71780  9.313863803227299\n",
       "2 27  male   42.130 0        yes    southeast 39611.75770 10.586881264789202\n",
       "3 60  female 36.005 0        no     northeast 13228.84695  9.490155099115842\n",
       "4 30  female 32.400 1        no     southwest  4149.73600  8.330799996743426\n",
       "5 63  female 23.085 0        no     northeast 14451.83515  9.578576685476762\n",
       "6 19  female 28.600 5        no     southwest  4687.79700  8.452718028271507"
      ]
     },
     "metadata": {},
     "output_type": "display_data"
    },
    {
     "data": {
      "text/html": [
       "268"
      ],
      "text/latex": [
       "268"
      ],
      "text/markdown": [
       "268"
      ],
      "text/plain": [
       "[1] 268"
      ]
     },
     "metadata": {},
     "output_type": "display_data"
    }
   ],
   "source": [
    "set.seed(123)\n",
    "#First split the data into training and testing sets\n",
    "training_ins<-sample_n(insurance,size=nrow(insurance)*0.8,\n",
    "                       replace = FALSE)\n",
    "testing_ins<-anti_join(insurance,training_ins,by = \"index\")\n",
    "training_ins<-dplyr::select(training_ins,-index)\n",
    "testing_ins<-dplyr::select(testing_ins,-index)\n",
    "\n",
    "head(training_ins)\n",
    "nrow(training_ins)\n",
    "\n",
    "head(testing_ins)\n",
    "nrow(testing_ins)\n"
   ]
  },
  {
   "cell_type": "code",
   "execution_count": 277,
   "id": "e7f9e3fd-0368-4afa-b439-9cf7d2f73fbd",
   "metadata": {
    "tags": []
   },
   "outputs": [
    {
     "data": {
      "text/plain": [
       "Subset selection object\n",
       "Call: regsubsets.formula(x = charges ~ (.)^2, data = training_ins, \n",
       "    nbest = 1, nvmax = 8, method = \"forward\")\n",
       "42 Variables  (and intercept)\n",
       "                            Forced in Forced out\n",
       "age                             FALSE      FALSE\n",
       "sexmale                         FALSE      FALSE\n",
       "bmi                             FALSE      FALSE\n",
       "children                        FALSE      FALSE\n",
       "smokeryes                       FALSE      FALSE\n",
       "regionnorthwest                 FALSE      FALSE\n",
       "regionsoutheast                 FALSE      FALSE\n",
       "regionsouthwest                 FALSE      FALSE\n",
       "log_charges                     FALSE      FALSE\n",
       "age:sexmale                     FALSE      FALSE\n",
       "age:bmi                         FALSE      FALSE\n",
       "age:children                    FALSE      FALSE\n",
       "age:smokeryes                   FALSE      FALSE\n",
       "age:regionnorthwest             FALSE      FALSE\n",
       "age:regionsoutheast             FALSE      FALSE\n",
       "age:regionsouthwest             FALSE      FALSE\n",
       "age:log_charges                 FALSE      FALSE\n",
       "sexmale:bmi                     FALSE      FALSE\n",
       "sexmale:children                FALSE      FALSE\n",
       "sexmale:smokeryes               FALSE      FALSE\n",
       "sexmale:regionnorthwest         FALSE      FALSE\n",
       "sexmale:regionsoutheast         FALSE      FALSE\n",
       "sexmale:regionsouthwest         FALSE      FALSE\n",
       "sexmale:log_charges             FALSE      FALSE\n",
       "bmi:children                    FALSE      FALSE\n",
       "bmi:smokeryes                   FALSE      FALSE\n",
       "bmi:regionnorthwest             FALSE      FALSE\n",
       "bmi:regionsoutheast             FALSE      FALSE\n",
       "bmi:regionsouthwest             FALSE      FALSE\n",
       "bmi:log_charges                 FALSE      FALSE\n",
       "children:smokeryes              FALSE      FALSE\n",
       "children:regionnorthwest        FALSE      FALSE\n",
       "children:regionsoutheast        FALSE      FALSE\n",
       "children:regionsouthwest        FALSE      FALSE\n",
       "children:log_charges            FALSE      FALSE\n",
       "smokeryes:regionnorthwest       FALSE      FALSE\n",
       "smokeryes:regionsoutheast       FALSE      FALSE\n",
       "smokeryes:regionsouthwest       FALSE      FALSE\n",
       "smokeryes:log_charges           FALSE      FALSE\n",
       "regionnorthwest:log_charges     FALSE      FALSE\n",
       "regionsoutheast:log_charges     FALSE      FALSE\n",
       "regionsouthwest:log_charges     FALSE      FALSE\n",
       "1 subsets of each size up to 8\n",
       "Selection Algorithm: forward\n",
       "         age sexmale bmi children smokeryes regionnorthwest regionsoutheast\n",
       "1  ( 1 ) \" \" \" \"     \" \" \" \"      \" \"       \" \"             \" \"            \n",
       "2  ( 1 ) \" \" \" \"     \" \" \" \"      \" \"       \" \"             \" \"            \n",
       "3  ( 1 ) \" \" \" \"     \" \" \" \"      \"*\"       \" \"             \" \"            \n",
       "4  ( 1 ) \" \" \" \"     \" \" \" \"      \"*\"       \" \"             \" \"            \n",
       "5  ( 1 ) \"*\" \" \"     \" \" \" \"      \"*\"       \" \"             \" \"            \n",
       "6  ( 1 ) \"*\" \" \"     \" \" \" \"      \"*\"       \" \"             \" \"            \n",
       "7  ( 1 ) \"*\" \" \"     \" \" \" \"      \"*\"       \" \"             \" \"            \n",
       "8  ( 1 ) \"*\" \" \"     \" \" \"*\"      \"*\"       \" \"             \" \"            \n",
       "         regionsouthwest log_charges age:sexmale age:bmi age:children\n",
       "1  ( 1 ) \" \"             \"*\"         \" \"         \" \"     \" \"         \n",
       "2  ( 1 ) \" \"             \"*\"         \" \"         \" \"     \" \"         \n",
       "3  ( 1 ) \" \"             \"*\"         \" \"         \" \"     \" \"         \n",
       "4  ( 1 ) \" \"             \"*\"         \" \"         \" \"     \" \"         \n",
       "5  ( 1 ) \" \"             \"*\"         \" \"         \" \"     \" \"         \n",
       "6  ( 1 ) \" \"             \"*\"         \" \"         \" \"     \" \"         \n",
       "7  ( 1 ) \" \"             \"*\"         \" \"         \" \"     \" \"         \n",
       "8  ( 1 ) \" \"             \"*\"         \" \"         \" \"     \" \"         \n",
       "         age:smokeryes age:regionnorthwest age:regionsoutheast\n",
       "1  ( 1 ) \" \"           \" \"                 \" \"                \n",
       "2  ( 1 ) \" \"           \" \"                 \" \"                \n",
       "3  ( 1 ) \" \"           \" \"                 \" \"                \n",
       "4  ( 1 ) \" \"           \" \"                 \" \"                \n",
       "5  ( 1 ) \" \"           \" \"                 \" \"                \n",
       "6  ( 1 ) \" \"           \" \"                 \" \"                \n",
       "7  ( 1 ) \"*\"           \" \"                 \" \"                \n",
       "8  ( 1 ) \"*\"           \" \"                 \" \"                \n",
       "         age:regionsouthwest age:log_charges sexmale:bmi sexmale:children\n",
       "1  ( 1 ) \" \"                 \" \"             \" \"         \" \"             \n",
       "2  ( 1 ) \" \"                 \" \"             \" \"         \" \"             \n",
       "3  ( 1 ) \" \"                 \" \"             \" \"         \" \"             \n",
       "4  ( 1 ) \" \"                 \" \"             \" \"         \" \"             \n",
       "5  ( 1 ) \" \"                 \" \"             \" \"         \" \"             \n",
       "6  ( 1 ) \" \"                 \"*\"             \" \"         \" \"             \n",
       "7  ( 1 ) \" \"                 \"*\"             \" \"         \" \"             \n",
       "8  ( 1 ) \" \"                 \"*\"             \" \"         \" \"             \n",
       "         sexmale:smokeryes sexmale:regionnorthwest sexmale:regionsoutheast\n",
       "1  ( 1 ) \" \"               \" \"                     \" \"                    \n",
       "2  ( 1 ) \" \"               \" \"                     \" \"                    \n",
       "3  ( 1 ) \" \"               \" \"                     \" \"                    \n",
       "4  ( 1 ) \" \"               \" \"                     \" \"                    \n",
       "5  ( 1 ) \" \"               \" \"                     \" \"                    \n",
       "6  ( 1 ) \" \"               \" \"                     \" \"                    \n",
       "7  ( 1 ) \" \"               \" \"                     \" \"                    \n",
       "8  ( 1 ) \" \"               \" \"                     \" \"                    \n",
       "         sexmale:regionsouthwest sexmale:log_charges bmi:children bmi:smokeryes\n",
       "1  ( 1 ) \" \"                     \" \"                 \" \"          \" \"          \n",
       "2  ( 1 ) \" \"                     \" \"                 \" \"          \"*\"          \n",
       "3  ( 1 ) \" \"                     \" \"                 \" \"          \"*\"          \n",
       "4  ( 1 ) \" \"                     \" \"                 \" \"          \"*\"          \n",
       "5  ( 1 ) \" \"                     \" \"                 \" \"          \"*\"          \n",
       "6  ( 1 ) \" \"                     \" \"                 \" \"          \"*\"          \n",
       "7  ( 1 ) \" \"                     \" \"                 \" \"          \"*\"          \n",
       "8  ( 1 ) \" \"                     \" \"                 \" \"          \"*\"          \n",
       "         bmi:regionnorthwest bmi:regionsoutheast bmi:regionsouthwest\n",
       "1  ( 1 ) \" \"                 \" \"                 \" \"                \n",
       "2  ( 1 ) \" \"                 \" \"                 \" \"                \n",
       "3  ( 1 ) \" \"                 \" \"                 \" \"                \n",
       "4  ( 1 ) \" \"                 \" \"                 \" \"                \n",
       "5  ( 1 ) \" \"                 \" \"                 \" \"                \n",
       "6  ( 1 ) \" \"                 \" \"                 \" \"                \n",
       "7  ( 1 ) \" \"                 \" \"                 \" \"                \n",
       "8  ( 1 ) \" \"                 \" \"                 \" \"                \n",
       "         bmi:log_charges children:smokeryes children:regionnorthwest\n",
       "1  ( 1 ) \" \"             \" \"                \" \"                     \n",
       "2  ( 1 ) \" \"             \" \"                \" \"                     \n",
       "3  ( 1 ) \" \"             \" \"                \" \"                     \n",
       "4  ( 1 ) \" \"             \" \"                \" \"                     \n",
       "5  ( 1 ) \" \"             \" \"                \" \"                     \n",
       "6  ( 1 ) \" \"             \" \"                \" \"                     \n",
       "7  ( 1 ) \" \"             \" \"                \" \"                     \n",
       "8  ( 1 ) \" \"             \" \"                \" \"                     \n",
       "         children:regionsoutheast children:regionsouthwest children:log_charges\n",
       "1  ( 1 ) \" \"                      \" \"                      \" \"                 \n",
       "2  ( 1 ) \" \"                      \" \"                      \" \"                 \n",
       "3  ( 1 ) \" \"                      \" \"                      \" \"                 \n",
       "4  ( 1 ) \" \"                      \" \"                      \" \"                 \n",
       "5  ( 1 ) \" \"                      \" \"                      \" \"                 \n",
       "6  ( 1 ) \" \"                      \" \"                      \" \"                 \n",
       "7  ( 1 ) \" \"                      \" \"                      \" \"                 \n",
       "8  ( 1 ) \" \"                      \" \"                      \" \"                 \n",
       "         smokeryes:regionnorthwest smokeryes:regionsoutheast\n",
       "1  ( 1 ) \" \"                       \" \"                      \n",
       "2  ( 1 ) \" \"                       \" \"                      \n",
       "3  ( 1 ) \" \"                       \" \"                      \n",
       "4  ( 1 ) \" \"                       \" \"                      \n",
       "5  ( 1 ) \" \"                       \" \"                      \n",
       "6  ( 1 ) \" \"                       \" \"                      \n",
       "7  ( 1 ) \" \"                       \" \"                      \n",
       "8  ( 1 ) \" \"                       \" \"                      \n",
       "         smokeryes:regionsouthwest smokeryes:log_charges\n",
       "1  ( 1 ) \" \"                       \" \"                  \n",
       "2  ( 1 ) \" \"                       \" \"                  \n",
       "3  ( 1 ) \" \"                       \" \"                  \n",
       "4  ( 1 ) \" \"                       \"*\"                  \n",
       "5  ( 1 ) \" \"                       \"*\"                  \n",
       "6  ( 1 ) \" \"                       \"*\"                  \n",
       "7  ( 1 ) \" \"                       \"*\"                  \n",
       "8  ( 1 ) \" \"                       \"*\"                  \n",
       "         regionnorthwest:log_charges regionsoutheast:log_charges\n",
       "1  ( 1 ) \" \"                         \" \"                        \n",
       "2  ( 1 ) \" \"                         \" \"                        \n",
       "3  ( 1 ) \" \"                         \" \"                        \n",
       "4  ( 1 ) \" \"                         \" \"                        \n",
       "5  ( 1 ) \" \"                         \" \"                        \n",
       "6  ( 1 ) \" \"                         \" \"                        \n",
       "7  ( 1 ) \" \"                         \" \"                        \n",
       "8  ( 1 ) \" \"                         \" \"                        \n",
       "         regionsouthwest:log_charges\n",
       "1  ( 1 ) \" \"                        \n",
       "2  ( 1 ) \" \"                        \n",
       "3  ( 1 ) \" \"                        \n",
       "4  ( 1 ) \" \"                        \n",
       "5  ( 1 ) \" \"                        \n",
       "6  ( 1 ) \" \"                        \n",
       "7  ( 1 ) \" \"                        \n",
       "8  ( 1 ) \" \"                        "
      ]
     },
     "metadata": {},
     "output_type": "display_data"
    }
   ],
   "source": [
    "ins_forward_sel <- regsubsets(x = charges~(.)^2, data = training_ins, nbest = 1, nvmax = 8, method = \"forward\")\n",
    "ins_forward_sel_sum<- summary(ins_forward_sel)\n",
    "ins_forward_sel_sum"
   ]
  },
  {
   "cell_type": "code",
   "execution_count": 278,
   "id": "40aad79f-367b-45fa-bea5-d7594f307b17",
   "metadata": {
    "tags": []
   },
   "outputs": [
    {
     "data": {
      "text/html": [
       "<table class=\"dataframe\">\n",
       "<caption>A tibble: 8 × 3</caption>\n",
       "<thead>\n",
       "\t<tr><th scope=col>n_input</th><th scope=col>AdjR2</th><th scope=col>BIC</th></tr>\n",
       "\t<tr><th scope=col>&lt;int&gt;</th><th scope=col>&lt;dbl&gt;</th><th scope=col>&lt;dbl&gt;</th></tr>\n",
       "</thead>\n",
       "<tbody>\n",
       "\t<tr><td>1</td><td>0.8005124029766890</td><td>-1711.894015992014</td></tr>\n",
       "\t<tr><td>2</td><td>0.9033830973624809</td><td>-2481.669192074828</td></tr>\n",
       "\t<tr><td>3</td><td>0.9278639928293417</td><td>-2788.351462146792</td></tr>\n",
       "\t<tr><td>4</td><td>0.9623313865332607</td><td>-3477.587211433901</td></tr>\n",
       "\t<tr><td>5</td><td>0.9647232676247285</td><td>-3541.812823350631</td></tr>\n",
       "\t<tr><td>6</td><td>0.9879613114323440</td><td>-4686.198484223909</td></tr>\n",
       "\t<tr><td>7</td><td>0.9907532704914577</td><td>-4962.555609033922</td></tr>\n",
       "\t<tr><td>8</td><td>0.9913371337821250</td><td>-5026.378184997507</td></tr>\n",
       "</tbody>\n",
       "</table>\n"
      ],
      "text/latex": [
       "A tibble: 8 × 3\n",
       "\\begin{tabular}{lll}\n",
       " n\\_input & AdjR2 & BIC\\\\\n",
       " <int> & <dbl> & <dbl>\\\\\n",
       "\\hline\n",
       "\t 1 & 0.8005124029766890 & -1711.894015992014\\\\\n",
       "\t 2 & 0.9033830973624809 & -2481.669192074828\\\\\n",
       "\t 3 & 0.9278639928293417 & -2788.351462146792\\\\\n",
       "\t 4 & 0.9623313865332607 & -3477.587211433901\\\\\n",
       "\t 5 & 0.9647232676247285 & -3541.812823350631\\\\\n",
       "\t 6 & 0.9879613114323440 & -4686.198484223909\\\\\n",
       "\t 7 & 0.9907532704914577 & -4962.555609033922\\\\\n",
       "\t 8 & 0.9913371337821250 & -5026.378184997507\\\\\n",
       "\\end{tabular}\n"
      ],
      "text/markdown": [
       "\n",
       "A tibble: 8 × 3\n",
       "\n",
       "| n_input &lt;int&gt; | AdjR2 &lt;dbl&gt; | BIC &lt;dbl&gt; |\n",
       "|---|---|---|\n",
       "| 1 | 0.8005124029766890 | -1711.894015992014 |\n",
       "| 2 | 0.9033830973624809 | -2481.669192074828 |\n",
       "| 3 | 0.9278639928293417 | -2788.351462146792 |\n",
       "| 4 | 0.9623313865332607 | -3477.587211433901 |\n",
       "| 5 | 0.9647232676247285 | -3541.812823350631 |\n",
       "| 6 | 0.9879613114323440 | -4686.198484223909 |\n",
       "| 7 | 0.9907532704914577 | -4962.555609033922 |\n",
       "| 8 | 0.9913371337821250 | -5026.378184997507 |\n",
       "\n"
      ],
      "text/plain": [
       "  n_input AdjR2              BIC               \n",
       "1 1       0.8005124029766890 -1711.894015992014\n",
       "2 2       0.9033830973624809 -2481.669192074828\n",
       "3 3       0.9278639928293417 -2788.351462146792\n",
       "4 4       0.9623313865332607 -3477.587211433901\n",
       "5 5       0.9647232676247285 -3541.812823350631\n",
       "6 6       0.9879613114323440 -4686.198484223909\n",
       "7 7       0.9907532704914577 -4962.555609033922\n",
       "8 8       0.9913371337821250 -5026.378184997507"
      ]
     },
     "metadata": {},
     "output_type": "display_data"
    }
   ],
   "source": [
    "summary_df<-tibble(n_input=1:8,AdjR2 =ins_forward_sel_sum$adjr2,BIC=ins_forward_sel_sum$bic)\n",
    "summary_df"
   ]
  },
  {
   "cell_type": "code",
   "execution_count": 279,
   "id": "7884b907-6ac9-420b-a220-4666c72986a0",
   "metadata": {
    "tags": []
   },
   "outputs": [
    {
     "data": {
      "text/html": [
       "8"
      ],
      "text/latex": [
       "8"
      ],
      "text/markdown": [
       "8"
      ],
      "text/plain": [
       "[1] 8"
      ]
     },
     "metadata": {},
     "output_type": "display_data"
    },
    {
     "data": {
      "text/html": [
       "<style>\n",
       ".dl-inline {width: auto; margin:0; padding: 0}\n",
       ".dl-inline>dt, .dl-inline>dd {float: none; width: auto; display: inline-block}\n",
       ".dl-inline>dt::after {content: \":\\0020\"; padding-right: .5ex}\n",
       ".dl-inline>dt:not(:first-of-type) {padding-left: .5ex}\n",
       "</style><dl class=dl-inline><dt>(Intercept)</dt><dd>TRUE</dd><dt>age</dt><dd>FALSE</dd><dt>sexmale</dt><dd>FALSE</dd><dt>bmi</dt><dd>FALSE</dd><dt>children</dt><dd>FALSE</dd><dt>smokeryes</dt><dd>TRUE</dd><dt>regionnorthwest</dt><dd>FALSE</dd><dt>regionsoutheast</dt><dd>FALSE</dd><dt>regionsouthwest</dt><dd>FALSE</dd><dt>log_charges</dt><dd>TRUE</dd><dt>age:sexmale</dt><dd>FALSE</dd><dt>age:bmi</dt><dd>FALSE</dd><dt>age:children</dt><dd>FALSE</dd><dt>age:smokeryes</dt><dd>FALSE</dd><dt>age:regionnorthwest</dt><dd>FALSE</dd><dt>age:regionsoutheast</dt><dd>FALSE</dd><dt>age:regionsouthwest</dt><dd>FALSE</dd><dt>age:log_charges</dt><dd>FALSE</dd><dt>sexmale:bmi</dt><dd>FALSE</dd><dt>sexmale:children</dt><dd>FALSE</dd><dt>sexmale:smokeryes</dt><dd>FALSE</dd><dt>sexmale:regionnorthwest</dt><dd>FALSE</dd><dt>sexmale:regionsoutheast</dt><dd>FALSE</dd><dt>sexmale:regionsouthwest</dt><dd>FALSE</dd><dt>sexmale:log_charges</dt><dd>FALSE</dd><dt>bmi:children</dt><dd>FALSE</dd><dt>bmi:smokeryes</dt><dd>TRUE</dd><dt>bmi:regionnorthwest</dt><dd>FALSE</dd><dt>bmi:regionsoutheast</dt><dd>FALSE</dd><dt>bmi:regionsouthwest</dt><dd>FALSE</dd><dt>bmi:log_charges</dt><dd>FALSE</dd><dt>children:smokeryes</dt><dd>FALSE</dd><dt>children:regionnorthwest</dt><dd>FALSE</dd><dt>children:regionsoutheast</dt><dd>FALSE</dd><dt>children:regionsouthwest</dt><dd>FALSE</dd><dt>children:log_charges</dt><dd>FALSE</dd><dt>smokeryes:regionnorthwest</dt><dd>FALSE</dd><dt>smokeryes:regionsoutheast</dt><dd>FALSE</dd><dt>smokeryes:regionsouthwest</dt><dd>FALSE</dd><dt>smokeryes:log_charges</dt><dd>TRUE</dd><dt>regionnorthwest:log_charges</dt><dd>FALSE</dd><dt>regionsoutheast:log_charges</dt><dd>FALSE</dd><dt>regionsouthwest:log_charges</dt><dd>FALSE</dd></dl>\n"
      ],
      "text/latex": [
       "\\begin{description*}\n",
       "\\item[(Intercept)] TRUE\n",
       "\\item[age] FALSE\n",
       "\\item[sexmale] FALSE\n",
       "\\item[bmi] FALSE\n",
       "\\item[children] FALSE\n",
       "\\item[smokeryes] TRUE\n",
       "\\item[regionnorthwest] FALSE\n",
       "\\item[regionsoutheast] FALSE\n",
       "\\item[regionsouthwest] FALSE\n",
       "\\item[log\\textbackslash{}\\_charges] TRUE\n",
       "\\item[age:sexmale] FALSE\n",
       "\\item[age:bmi] FALSE\n",
       "\\item[age:children] FALSE\n",
       "\\item[age:smokeryes] FALSE\n",
       "\\item[age:regionnorthwest] FALSE\n",
       "\\item[age:regionsoutheast] FALSE\n",
       "\\item[age:regionsouthwest] FALSE\n",
       "\\item[age:log\\textbackslash{}\\_charges] FALSE\n",
       "\\item[sexmale:bmi] FALSE\n",
       "\\item[sexmale:children] FALSE\n",
       "\\item[sexmale:smokeryes] FALSE\n",
       "\\item[sexmale:regionnorthwest] FALSE\n",
       "\\item[sexmale:regionsoutheast] FALSE\n",
       "\\item[sexmale:regionsouthwest] FALSE\n",
       "\\item[sexmale:log\\textbackslash{}\\_charges] FALSE\n",
       "\\item[bmi:children] FALSE\n",
       "\\item[bmi:smokeryes] TRUE\n",
       "\\item[bmi:regionnorthwest] FALSE\n",
       "\\item[bmi:regionsoutheast] FALSE\n",
       "\\item[bmi:regionsouthwest] FALSE\n",
       "\\item[bmi:log\\textbackslash{}\\_charges] FALSE\n",
       "\\item[children:smokeryes] FALSE\n",
       "\\item[children:regionnorthwest] FALSE\n",
       "\\item[children:regionsoutheast] FALSE\n",
       "\\item[children:regionsouthwest] FALSE\n",
       "\\item[children:log\\textbackslash{}\\_charges] FALSE\n",
       "\\item[smokeryes:regionnorthwest] FALSE\n",
       "\\item[smokeryes:regionsoutheast] FALSE\n",
       "\\item[smokeryes:regionsouthwest] FALSE\n",
       "\\item[smokeryes:log\\textbackslash{}\\_charges] TRUE\n",
       "\\item[regionnorthwest:log\\textbackslash{}\\_charges] FALSE\n",
       "\\item[regionsoutheast:log\\textbackslash{}\\_charges] FALSE\n",
       "\\item[regionsouthwest:log\\textbackslash{}\\_charges] FALSE\n",
       "\\end{description*}\n"
      ],
      "text/markdown": [
       "(Intercept)\n",
       ":   TRUEage\n",
       ":   FALSEsexmale\n",
       ":   FALSEbmi\n",
       ":   FALSEchildren\n",
       ":   FALSEsmokeryes\n",
       ":   TRUEregionnorthwest\n",
       ":   FALSEregionsoutheast\n",
       ":   FALSEregionsouthwest\n",
       ":   FALSElog_charges\n",
       ":   TRUEage:sexmale\n",
       ":   FALSEage:bmi\n",
       ":   FALSEage:children\n",
       ":   FALSEage:smokeryes\n",
       ":   FALSEage:regionnorthwest\n",
       ":   FALSEage:regionsoutheast\n",
       ":   FALSEage:regionsouthwest\n",
       ":   FALSEage:log_charges\n",
       ":   FALSEsexmale:bmi\n",
       ":   FALSEsexmale:children\n",
       ":   FALSEsexmale:smokeryes\n",
       ":   FALSEsexmale:regionnorthwest\n",
       ":   FALSEsexmale:regionsoutheast\n",
       ":   FALSEsexmale:regionsouthwest\n",
       ":   FALSEsexmale:log_charges\n",
       ":   FALSEbmi:children\n",
       ":   FALSEbmi:smokeryes\n",
       ":   TRUEbmi:regionnorthwest\n",
       ":   FALSEbmi:regionsoutheast\n",
       ":   FALSEbmi:regionsouthwest\n",
       ":   FALSEbmi:log_charges\n",
       ":   FALSEchildren:smokeryes\n",
       ":   FALSEchildren:regionnorthwest\n",
       ":   FALSEchildren:regionsoutheast\n",
       ":   FALSEchildren:regionsouthwest\n",
       ":   FALSEchildren:log_charges\n",
       ":   FALSEsmokeryes:regionnorthwest\n",
       ":   FALSEsmokeryes:regionsoutheast\n",
       ":   FALSEsmokeryes:regionsouthwest\n",
       ":   FALSEsmokeryes:log_charges\n",
       ":   TRUEregionnorthwest:log_charges\n",
       ":   FALSEregionsoutheast:log_charges\n",
       ":   FALSEregionsouthwest:log_charges\n",
       ":   FALSE\n",
       "\n"
      ],
      "text/plain": [
       "                (Intercept)                         age \n",
       "                       TRUE                       FALSE \n",
       "                    sexmale                         bmi \n",
       "                      FALSE                       FALSE \n",
       "                   children                   smokeryes \n",
       "                      FALSE                        TRUE \n",
       "            regionnorthwest             regionsoutheast \n",
       "                      FALSE                       FALSE \n",
       "            regionsouthwest                 log_charges \n",
       "                      FALSE                        TRUE \n",
       "                age:sexmale                     age:bmi \n",
       "                      FALSE                       FALSE \n",
       "               age:children               age:smokeryes \n",
       "                      FALSE                       FALSE \n",
       "        age:regionnorthwest         age:regionsoutheast \n",
       "                      FALSE                       FALSE \n",
       "        age:regionsouthwest             age:log_charges \n",
       "                      FALSE                       FALSE \n",
       "                sexmale:bmi            sexmale:children \n",
       "                      FALSE                       FALSE \n",
       "          sexmale:smokeryes     sexmale:regionnorthwest \n",
       "                      FALSE                       FALSE \n",
       "    sexmale:regionsoutheast     sexmale:regionsouthwest \n",
       "                      FALSE                       FALSE \n",
       "        sexmale:log_charges                bmi:children \n",
       "                      FALSE                       FALSE \n",
       "              bmi:smokeryes         bmi:regionnorthwest \n",
       "                       TRUE                       FALSE \n",
       "        bmi:regionsoutheast         bmi:regionsouthwest \n",
       "                      FALSE                       FALSE \n",
       "            bmi:log_charges          children:smokeryes \n",
       "                      FALSE                       FALSE \n",
       "   children:regionnorthwest    children:regionsoutheast \n",
       "                      FALSE                       FALSE \n",
       "   children:regionsouthwest        children:log_charges \n",
       "                      FALSE                       FALSE \n",
       "  smokeryes:regionnorthwest   smokeryes:regionsoutheast \n",
       "                      FALSE                       FALSE \n",
       "  smokeryes:regionsouthwest       smokeryes:log_charges \n",
       "                      FALSE                        TRUE \n",
       "regionnorthwest:log_charges regionsoutheast:log_charges \n",
       "                      FALSE                       FALSE \n",
       "regionsouthwest:log_charges \n",
       "                      FALSE "
      ]
     },
     "metadata": {},
     "output_type": "display_data"
    }
   ],
   "source": [
    "# The model has the smallest BIC\n",
    "which.min(summary_df$BIC)\n",
    "# The model with 4 parameters.\n",
    "ins_forward_sel_sum$which[4,]"
   ]
  },
  {
   "cell_type": "markdown",
   "id": "06c6965f-9a6a-40ce-a5e4-91224d346af3",
   "metadata": {
    "tags": []
   },
   "source": [
    "# Our Model 1 will include the following variables: 'age','children','smoker','bmi:smoker'. #\n",
    "***We will use log(charges to fit model, since we checked chagres is not normally distributed.***\n",
    "\n"
   ]
  },
  {
   "cell_type": "code",
   "execution_count": 301,
   "id": "c15fcc9d-9b10-49c2-99bb-bd6be260f40f",
   "metadata": {
    "tags": []
   },
   "outputs": [
    {
     "data": {
      "text/plain": [
       "\n",
       "Call:\n",
       "lm(formula = log_charges ~ ., data = training_ins)\n",
       "\n",
       "Residuals:\n",
       "              Min                1Q            Median                3Q \n",
       "-1.16057215942614 -0.10726809281751  0.02969927552483  0.11929950944121 \n",
       "              Max \n",
       " 1.02878396133140 \n",
       "\n",
       "Coefficients:\n",
       "                           Estimate          Std. Error   t value   Pr(>|t|)\n",
       "(Intercept)      7.691774500152e+00  5.878681410547e-02 130.84183 < 2.22e-16\n",
       "age              2.036299085690e-02  7.682484290929e-04  26.50574 < 2.22e-16\n",
       "sexmale         -6.853777459382e-02  1.868912611401e-02  -3.66725 0.00025734\n",
       "bmi             -4.146347946971e-03  1.697938171304e-03  -2.44199 0.01476914\n",
       "children         7.049809543936e-02  7.761417183089e-03   9.08315 < 2.22e-16\n",
       "smokeryes        2.729043757622e-01  4.310159058714e-02   6.33165 3.5757e-10\n",
       "regionnorthwest -4.997251069469e-02  2.665092156878e-02  -1.87508 0.06105699\n",
       "regionsoutheast -1.101071683637e-01  2.677506980141e-02  -4.11230 4.2203e-05\n",
       "regionsouthwest -8.142875134750e-02  2.679521428751e-02  -3.03893 0.00243240\n",
       "charges          5.313899790288e-05  1.515579071049e-06  35.06184 < 2.22e-16\n",
       "                   \n",
       "(Intercept)     ***\n",
       "age             ***\n",
       "sexmale         ***\n",
       "bmi             *  \n",
       "children        ***\n",
       "smokeryes       ***\n",
       "regionnorthwest .  \n",
       "regionsoutheast ***\n",
       "regionsouthwest ** \n",
       "charges         ***\n",
       "---\n",
       "Signif. codes:  0 ‘***’ 0.001 ‘**’ 0.01 ‘*’ 0.05 ‘.’ 0.1 ‘ ’ 1\n",
       "\n",
       "Residual standard error: 0.3033646191803 on 1060 degrees of freedom\n",
       "Multiple R-squared:  0.8906620119549,\tAdjusted R-squared:  0.889733670547 \n",
       "F-statistic: 959.4121347457 on 9 and 1060 DF,  p-value: < 2.2204460493e-16\n"
      ]
     },
     "metadata": {},
     "output_type": "display_data"
    }
   ],
   "source": [
    "full_model<-lm(log_charges~., data = training_ins)\n",
    "summary(full_model)"
   ]
  },
  {
   "cell_type": "code",
   "execution_count": 282,
   "id": "be3bcf74-7cc5-4068-a7f5-088774aa6b7c",
   "metadata": {
    "tags": []
   },
   "outputs": [
    {
     "data": {
      "text/plain": [
       "\n",
       "Call:\n",
       "lm(formula = log_charges ~ age + children + smoker + bmi * smoker, \n",
       "    data = training_ins)\n",
       "\n",
       "Residuals:\n",
       "              Min                1Q            Median                3Q \n",
       "-0.92948206379008 -0.18088002999763 -0.04024443899693  0.05461039471147 \n",
       "              Max \n",
       " 2.09760251261971 \n",
       "\n",
       "Coefficients:\n",
       "                        Estimate         Std. Error  t value Pr(>|t|)    \n",
       "(Intercept)   7.3160970775884042 0.0847804559151970 86.29462  < 2e-16 ***\n",
       "age           0.0338949449924122 0.0009675146083462 35.03301  < 2e-16 ***\n",
       "children      0.0979525692971082 0.0110665574472819  8.85122  < 2e-16 ***\n",
       "smokeryes     0.1765511590734568 0.1623134710362359  1.08772  0.27697    \n",
       "bmi           0.0011473548228245 0.0025276469900765  0.45392  0.64998    \n",
       "smokeryes:bmi 0.0444959709265464 0.0051515265584525  8.63743  < 2e-16 ***\n",
       "---\n",
       "Signif. codes:  0 ‘***’ 0.001 ‘**’ 0.01 ‘*’ 0.05 ‘.’ 0.1 ‘ ’ 1\n",
       "\n",
       "Residual standard error: 0.4354380711886 on 1064 degrees of freedom\n",
       "Multiple R-squared:  0.773884788918,\tAdjusted R-squared:  0.7728222174373 \n",
       "F-statistic: 728.3131563493 on 5 and 1064 DF,  p-value: < 2.2204460493e-16\n"
      ]
     },
     "metadata": {},
     "output_type": "display_data"
    }
   ],
   "source": [
    "model1 <- lm(log_charges ~ age + children + smoker + bmi*smoker, data = training_ins)\n",
    "summary(model1)"
   ]
  },
  {
   "cell_type": "code",
   "execution_count": 283,
   "id": "5ee62842-eab4-41d1-a97c-64aa2a845dc8",
   "metadata": {
    "tags": []
   },
   "outputs": [
    {
     "data": {
      "text/html": [
       "<table class=\"dataframe\">\n",
       "<caption>A matrix: 8 × 3 of type dbl</caption>\n",
       "<thead>\n",
       "\t<tr><th></th><th scope=col>GVIF</th><th scope=col>Df</th><th scope=col>GVIF^(1/(2*Df))</th></tr>\n",
       "</thead>\n",
       "<tbody>\n",
       "\t<tr><th scope=row>index</th><td>1.003462636099061</td><td>1</td><td>1.001729821907615</td></tr>\n",
       "\t<tr><th scope=row>age</th><td>1.374726062689936</td><td>1</td><td>1.172487126876000</td></tr>\n",
       "\t<tr><th scope=row>sex</th><td>1.009034959199991</td><td>1</td><td>1.004507321625876</td></tr>\n",
       "\t<tr><th scope=row>bmi</th><td>1.224926026680508</td><td>1</td><td>1.106763762815041</td></tr>\n",
       "\t<tr><th scope=row>children</th><td>1.013615732337206</td><td>1</td><td>1.006784849080083</td></tr>\n",
       "\t<tr><th scope=row>smoker</th><td>3.549701403778327</td><td>1</td><td>1.884065127265596</td></tr>\n",
       "\t<tr><th scope=row>region</th><td>1.104640857486416</td><td>3</td><td>1.016725034257681</td></tr>\n",
       "\t<tr><th scope=row>charges</th><td>4.015348365072421</td><td>1</td><td>2.003833417495681</td></tr>\n",
       "</tbody>\n",
       "</table>\n"
      ],
      "text/latex": [
       "A matrix: 8 × 3 of type dbl\n",
       "\\begin{tabular}{r|lll}\n",
       "  & GVIF & Df & GVIF\\textasciicircum{}(1/(2*Df))\\\\\n",
       "\\hline\n",
       "\tindex & 1.003462636099061 & 1 & 1.001729821907615\\\\\n",
       "\tage & 1.374726062689936 & 1 & 1.172487126876000\\\\\n",
       "\tsex & 1.009034959199991 & 1 & 1.004507321625876\\\\\n",
       "\tbmi & 1.224926026680508 & 1 & 1.106763762815041\\\\\n",
       "\tchildren & 1.013615732337206 & 1 & 1.006784849080083\\\\\n",
       "\tsmoker & 3.549701403778327 & 1 & 1.884065127265596\\\\\n",
       "\tregion & 1.104640857486416 & 3 & 1.016725034257681\\\\\n",
       "\tcharges & 4.015348365072421 & 1 & 2.003833417495681\\\\\n",
       "\\end{tabular}\n"
      ],
      "text/markdown": [
       "\n",
       "A matrix: 8 × 3 of type dbl\n",
       "\n",
       "| <!--/--> | GVIF | Df | GVIF^(1/(2*Df)) |\n",
       "|---|---|---|---|\n",
       "| index | 1.003462636099061 | 1 | 1.001729821907615 |\n",
       "| age | 1.374726062689936 | 1 | 1.172487126876000 |\n",
       "| sex | 1.009034959199991 | 1 | 1.004507321625876 |\n",
       "| bmi | 1.224926026680508 | 1 | 1.106763762815041 |\n",
       "| children | 1.013615732337206 | 1 | 1.006784849080083 |\n",
       "| smoker | 3.549701403778327 | 1 | 1.884065127265596 |\n",
       "| region | 1.104640857486416 | 3 | 1.016725034257681 |\n",
       "| charges | 4.015348365072421 | 1 | 2.003833417495681 |\n",
       "\n"
      ],
      "text/plain": [
       "         GVIF              Df GVIF^(1/(2*Df))  \n",
       "index    1.003462636099061 1  1.001729821907615\n",
       "age      1.374726062689936 1  1.172487126876000\n",
       "sex      1.009034959199991 1  1.004507321625876\n",
       "bmi      1.224926026680508 1  1.106763762815041\n",
       "children 1.013615732337206 1  1.006784849080083\n",
       "smoker   3.549701403778327 1  1.884065127265596\n",
       "region   1.104640857486416 3  1.016725034257681\n",
       "charges  4.015348365072421 1  2.003833417495681"
      ]
     },
     "metadata": {},
     "output_type": "display_data"
    }
   ],
   "source": [
    "vif(lm(log_charges ~ ., data = insurance))"
   ]
  },
  {
   "cell_type": "code",
   "execution_count": 302,
   "id": "d17f9191-8eb6-45af-b352-4d5d38cdb3e4",
   "metadata": {
    "tags": []
   },
   "outputs": [
    {
     "data": {
      "image/png": "[encoded data removed]",
      "text/plain": [
       "Plot with title “Residual Plot for Model 1”"
      ]
     },
     "metadata": {
      "image/png": {
       "height": 300,
       "width": 420
      }
     },
     "output_type": "display_data"
    }
   ],
   "source": [
    "# Create a residual plot\n",
    "plot(fitted(model1), resid(model1), main = \"Residual Plot for Model 1\")"
   ]
  },
  {
   "cell_type": "markdown",
   "id": "1b0ae71c-3b10-49ce-9316-d664a738ada4",
   "metadata": {
    "tags": []
   },
   "source": [
    "**We observed the non-linear patern, so we want to include a quadratic term in the model to capture non-linear patterns**"
   ]
  },
  {
   "cell_type": "code",
   "execution_count": 303,
   "id": "44408667-9d0d-43ad-b855-8a1db391e102",
   "metadata": {
    "tags": []
   },
   "outputs": [
    {
     "data": {
      "text/plain": [
       "\n",
       "Call:\n",
       "lm(formula = log_charges ~ age + I((age - mean(age))^2) + children + \n",
       "    smoker + bmi * smoker, data = training_ins)\n",
       "\n",
       "Residuals:\n",
       "              Min                1Q            Median                3Q \n",
       "-0.88777713965911 -0.19080732172635 -0.05731140440723  0.05723814932198 \n",
       "              Max \n",
       " 2.13405246400078 \n",
       "\n",
       "Coefficients:\n",
       "                                  Estimate          Std. Error  t value\n",
       "(Intercept)             7.350509012823e+00  8.587061910747e-02 85.59981\n",
       "age                     3.405258378637e-02  9.678312724669e-04 35.18442\n",
       "I((age - mean(age))^2) -1.942199972055e-04  8.298033295656e-05 -2.34055\n",
       "children                8.934080451985e-02  1.164015305140e-02  7.67523\n",
       "smokeryes               1.683319067275e-01  1.620110335902e-01  1.03902\n",
       "bmi                     1.357275584658e-03  2.523938552165e-03  0.53776\n",
       "smokeryes:bmi           4.472976568251e-02  5.141690077928e-03  8.69943\n",
       "                         Pr(>|t|)    \n",
       "(Intercept)            < 2.22e-16 ***\n",
       "age                    < 2.22e-16 ***\n",
       "I((age - mean(age))^2)   0.019439 *  \n",
       "children               3.7266e-14 ***\n",
       "smokeryes                0.299034    \n",
       "bmi                      0.590855    \n",
       "smokeryes:bmi          < 2.22e-16 ***\n",
       "---\n",
       "Signif. codes:  0 ‘***’ 0.001 ‘**’ 0.01 ‘*’ 0.05 ‘.’ 0.1 ‘ ’ 1\n",
       "\n",
       "Residual standard error: 0.4345246111058 on 1063 degrees of freedom\n",
       "Multiple R-squared:  0.7750441044538,\tAdjusted R-squared:  0.7737743628044 \n",
       "F-statistic: 610.3951184401 on 6 and 1063 DF,  p-value: < 2.2204460493e-16\n"
      ]
     },
     "metadata": {},
     "output_type": "display_data"
    }
   ],
   "source": [
    "model2 <- lm(log_charges ~ age + I((age-mean(age))^2) + children + smoker + bmi*smoker, data = training_ins)\n",
    "summary(model2)"
   ]
  },
  {
   "cell_type": "code",
   "execution_count": 304,
   "id": "55d3fdf4-0dbc-48f3-975a-e12106e7667e",
   "metadata": {
    "tags": []
   },
   "outputs": [
    {
     "data": {
      "image/png": "[encoded data removed]",
      "text/plain": [
       "Plot with title “Residual Plot for Model 2”"
      ]
     },
     "metadata": {
      "image/png": {
       "height": 300,
       "width": 420
      }
     },
     "output_type": "display_data"
    }
   ],
   "source": [
    "# Create a residual plot\n",
    "plot(fitted(model2), resid(model2), main = \"Residual Plot for Model 2\")"
   ]
  },
  {
   "cell_type": "code",
   "execution_count": 305,
   "id": "8dea5031-4656-4a08-8b4b-6d4857da4e69",
   "metadata": {
    "tags": []
   },
   "outputs": [],
   "source": [
    "prediction<- predict(full_model,newdata = testing_ins)\n",
    "full_rmse<-rmse(testing_ins$log_charges, prediction)"
   ]
  },
  {
   "cell_type": "code",
   "execution_count": 306,
   "id": "d330b33d-b98c-491a-a7fc-03f11015c96c",
   "metadata": {
    "tags": []
   },
   "outputs": [],
   "source": [
    "prediction1 <- predict(model1, newdata = testing_ins)\n",
    "model1_rmse<-rmse(testing_ins$log_charges, prediction1)"
   ]
  },
  {
   "cell_type": "code",
   "execution_count": 307,
   "id": "938d3035-00ab-4ab1-bcb1-5921c1b0032b",
   "metadata": {
    "tags": []
   },
   "outputs": [],
   "source": [
    "prediction2 <- predict(model2, newdata = testing_ins)\n",
    "model2_rmse<-rmse(testing_ins$log_charges, prediction2)"
   ]
  },
  {
   "cell_type": "code",
   "execution_count": 309,
   "id": "cd855ea5-8cb8-4544-aaa5-75e76b3c0bf1",
   "metadata": {
    "tags": []
   },
   "outputs": [
    {
     "data": {
      "text/html": [
       "<table class=\"dataframe\">\n",
       "<caption>A tibble: 3 × 3</caption>\n",
       "<thead>\n",
       "\t<tr><th scope=col>n</th><th scope=col>Model</th><th scope=col>R_MSE</th></tr>\n",
       "\t<tr><th scope=col>&lt;int&gt;</th><th scope=col>&lt;chr&gt;</th><th scope=col>&lt;dbl&gt;</th></tr>\n",
       "</thead>\n",
       "<tbody>\n",
       "\t<tr><td>1</td><td>Full Model</td><td>0.3091103195709058</td></tr>\n",
       "\t<tr><td>2</td><td>Model 1   </td><td>0.4358515778594471</td></tr>\n",
       "\t<tr><td>3</td><td>Model 2   </td><td>0.4326632425561366</td></tr>\n",
       "</tbody>\n",
       "</table>\n"
      ],
      "text/latex": [
       "A tibble: 3 × 3\n",
       "\\begin{tabular}{lll}\n",
       " n & Model & R\\_MSE\\\\\n",
       " <int> & <chr> & <dbl>\\\\\n",
       "\\hline\n",
       "\t 1 & Full Model & 0.3091103195709058\\\\\n",
       "\t 2 & Model 1    & 0.4358515778594471\\\\\n",
       "\t 3 & Model 2    & 0.4326632425561366\\\\\n",
       "\\end{tabular}\n"
      ],
      "text/markdown": [
       "\n",
       "A tibble: 3 × 3\n",
       "\n",
       "| n &lt;int&gt; | Model &lt;chr&gt; | R_MSE &lt;dbl&gt; |\n",
       "|---|---|---|\n",
       "| 1 | Full Model | 0.3091103195709058 |\n",
       "| 2 | Model 1    | 0.4358515778594471 |\n",
       "| 3 | Model 2    | 0.4326632425561366 |\n",
       "\n"
      ],
      "text/plain": [
       "  n Model      R_MSE             \n",
       "1 1 Full Model 0.3091103195709058\n",
       "2 2 Model 1    0.4358515778594471\n",
       "3 3 Model 2    0.4326632425561366"
      ]
     },
     "metadata": {},
     "output_type": "display_data"
    }
   ],
   "source": [
    "rmse_models <- tibble(\n",
    "  n = 1:3,\n",
    "  Model = c(\"Full Model\",\"Model 1\", \"Model 2\"),\n",
    "  R_MSE = c(full_rmse,model1_rmse,model2_rmse))\n",
    "rmse_models"
   ]
  },
  {
   "cell_type": "code",
   "execution_count": null,
   "id": "129f5495-91ad-4946-9e25-fc7d803791bb",
   "metadata": {},
   "outputs": [],
   "source": []
  }
 ],
 "metadata": {
  "kernelspec": {
   "display_name": "R",
   "language": "R",
   "name": "ir"
  },
  "language_info": {
   "codemirror_mode": "r",
   "file_extension": ".r",
   "mimetype": "text/x-r-source",
   "name": "R",
   "pygments_lexer": "r",
   "version": "4.2.3"
  }
 },
 "nbformat": 4,
 "nbformat_minor": 5
}
